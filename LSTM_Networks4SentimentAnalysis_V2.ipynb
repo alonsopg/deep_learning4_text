{
 "cells": [
  {
   "cell_type": "markdown",
   "metadata": {},
   "source": [
    "# LSTM Networks for Sentiment Analysis in Spanish\n",
    "\n",
    "\n",
    "## LSTM Networks\n",
    "\n",
    "In 1997 [[ Sepp Hochreiter & Jürgen Schmidhuber ]]()..........\n",
    "\n",
    "\n",
    "\n",
    "## The task\n",
    "\n",
    "This is a short example that shows how to use LSTM Networks to perform classification of the semantic orientation, a very important subtask of sentiment analysis.\n",
    "\n",
    "\n",
    "## The data\n",
    "\n",
    "The data is the corpus that I used in my [bachelors thesis](http://alonsopg.com), it contains 2617 spanish reviews about washing machines. The reviews are annotated with a label, which represents the number of stars that each washing machine has (i.e. polarity of a review), check out my other notebooks if you are interested in see how I transformed the opinions into a tabular format, which is more convinient to feed classification pipelines.\n",
    "\n"
   ]
  },
  {
   "cell_type": "code",
   "execution_count": 1,
   "metadata": {
    "collapsed": false
   },
   "outputs": [
    {
     "data": {
      "text/html": [
       "<div>\n",
       "<table border=\"1\" class=\"dataframe\">\n",
       "  <thead>\n",
       "    <tr style=\"text-align: right;\">\n",
       "      <th></th>\n",
       "      <th>id</th>\n",
       "      <th>content</th>\n",
       "      <th>labels</th>\n",
       "    </tr>\n",
       "  </thead>\n",
       "  <tbody>\n",
       "    <tr>\n",
       "      <th>2613</th>\n",
       "      <td>Zanussi_ZWQ_5109__Opinion_2094551.html.txt</td>\n",
       "      <td>Hola amigos de ciao,La lavadora Zanussi ZWQ-51...</td>\n",
       "      <td>1.0</td>\n",
       "    </tr>\n",
       "    <tr>\n",
       "      <th>2614</th>\n",
       "      <td>Zanussi_ZWQ_598__Opinion_2004693.html.txt</td>\n",
       "      <td>Bueno.. esta lavadora bautizada Zanussi ZWQ 59...</td>\n",
       "      <td>1.0</td>\n",
       "    </tr>\n",
       "    <tr>\n",
       "      <th>2615</th>\n",
       "      <td>Zanussi_ZWT_260__Opinion_1091527.html.txt</td>\n",
       "      <td>pues la he tenido como ará unos dos o tres año...</td>\n",
       "      <td>1.0</td>\n",
       "    </tr>\n",
       "    <tr>\n",
       "      <th>2616</th>\n",
       "      <td>Zanussi_ZWT_260__Opinion_1157262.html.txt</td>\n",
       "      <td>Tengo un mimi apartamento (a la ministra le en...</td>\n",
       "      <td>1.0</td>\n",
       "    </tr>\n",
       "    <tr>\n",
       "      <th>2617</th>\n",
       "      <td>lavadora_lynx_4_ts_750_xt__Opinion_1710407.htm...</td>\n",
       "      <td>Hace ya unos ocho meses que poseo esta lavador...</td>\n",
       "      <td>0.0</td>\n",
       "    </tr>\n",
       "  </tbody>\n",
       "</table>\n",
       "</div>"
      ],
      "text/plain": [
       "                                                     id  \\\n",
       "2613         Zanussi_ZWQ_5109__Opinion_2094551.html.txt   \n",
       "2614          Zanussi_ZWQ_598__Opinion_2004693.html.txt   \n",
       "2615          Zanussi_ZWT_260__Opinion_1091527.html.txt   \n",
       "2616          Zanussi_ZWT_260__Opinion_1157262.html.txt   \n",
       "2617  lavadora_lynx_4_ts_750_xt__Opinion_1710407.htm...   \n",
       "\n",
       "                                                content  labels  \n",
       "2613  Hola amigos de ciao,La lavadora Zanussi ZWQ-51...     1.0  \n",
       "2614  Bueno.. esta lavadora bautizada Zanussi ZWQ 59...     1.0  \n",
       "2615  pues la he tenido como ará unos dos o tres año...     1.0  \n",
       "2616  Tengo un mimi apartamento (a la ministra le en...     1.0  \n",
       "2617  Hace ya unos ocho meses que poseo esta lavador...     0.0  "
      ]
     },
     "execution_count": 1,
     "metadata": {},
     "output_type": "execute_result"
    }
   ],
   "source": [
    "import numpy as np\n",
    "\n",
    "np.random.seed(1337)  # for reproducibility\n",
    "\n",
    "import pandas as pd\n",
    "df = pd.read_csv('/Users/user/Jupyter/datasets/thesis/thesis_corpus.csv', sep = '|').dropna()\n",
    "df.tail(5)"
   ]
  },
  {
   "cell_type": "code",
   "execution_count": 2,
   "metadata": {
    "collapsed": false
   },
   "outputs": [],
   "source": [
    "X = df['content'].values\n",
    "y = df['labels'].values"
   ]
  },
  {
   "cell_type": "code",
   "execution_count": 5,
   "metadata": {
    "collapsed": false
   },
   "outputs": [],
   "source": [
    "from keras.preprocessing import sequence\n",
    "from keras.preprocessing.text import Tokenizer, base_filter\n",
    "from keras.models import Sequential\n",
    "from keras.layers.core import Dense, Activation\n",
    "from keras.layers.embeddings import Embedding\n",
    "from keras.layers.recurrent import LSTM\n",
    "\n",
    "bf = base_filter()\n",
    "tokenizer = Tokenizer(nb_words=200, filters=bf,lower=True, split=\" \")\n",
    "tokenizer.fit_on_texts(X)\n",
    "\n",
    "X = tokenizer.texts_to_sequences(X)"
   ]
  },
  {
   "cell_type": "code",
   "execution_count": null,
   "metadata": {
    "collapsed": true
   },
   "outputs": [],
   "source": [
    "from keras.preprocessing import sequence\n",
    "from keras.models import Sequential\n",
    "from keras.layers.core import Dense, Activation\n",
    "from keras.layers.embeddings import Embedding\n",
    "from keras.layers.recurrent import LSTM\n",
    "\n",
    "import keras.preprocessing.text\n",
    "\n",
    "tokenizer = keras.preprocessing.text.Tokenizer(nb_words=200, \\\n",
    "                                        filters=keras.preprocessing.text.base_filter(), \\\n",
    "                                        lower=True, split=\" \")\n",
    "tokenizer.fit_on_texts(x)\n",
    "\n",
    "X = tokenizer.texts_to_sequences(x)"
   ]
  },
  {
   "cell_type": "code",
   "execution_count": 6,
   "metadata": {
    "collapsed": false
   },
   "outputs": [
    {
     "name": "stdout",
     "output_type": "stream",
     "text": [
      "max_len  80\n",
      "Pad sequences (samples x time)\n",
      "Build model...\n",
      "Train on 1935 samples, validate on 484 samples\n",
      "Epoch 1/1\n",
      "1935/1935 [==============================] - 36s - loss: 0.6996 - val_loss: 0.5510\n",
      "2419/2419 [==============================] - 4s     \n"
     ]
    }
   ],
   "source": [
    "\n",
    "###################################\n",
    "max_len = 80\n",
    "print (\"max_len \", max_len)\n",
    "print('Pad sequences (samples x time)')\n",
    "\n",
    "X = sequence.pad_sequences(X, maxlen=max_len)\n",
    "\n",
    "#########################\n",
    "max_features = 20000\n",
    "model = Sequential()\n",
    "print('Build model...')\n",
    "\n",
    "model = Sequential()\n",
    "model.add(Embedding(max_features, 128, input_length=max_len, dropout=0.2))\n",
    "model.add(LSTM(128, dropout_W=0.2, dropout_U=0.2))\n",
    "model.add(Dense(1))\n",
    "model.add(Activation('sigmoid'))\n",
    "\n",
    "model.compile(loss='binary_crossentropy', optimizer='rmsprop')\n",
    "\n",
    "model.fit(X, y, batch_size=6000, nb_epoch=1, verbose=1, validation_split=0.2, shuffle=True)\n",
    "\n",
    "# at index 1(0-based)', 'could not convert string to float: negative')\n",
    "score = model.evaluate(X, y)"
   ]
  },
  {
   "cell_type": "code",
   "execution_count": 7,
   "metadata": {
    "collapsed": false
   },
   "outputs": [
    {
     "data": {
      "text/plain": [
       "0.5434020670941665"
      ]
     },
     "execution_count": 7,
     "metadata": {},
     "output_type": "execute_result"
    }
   ],
   "source": [
    "score"
   ]
  },
  {
   "cell_type": "code",
   "execution_count": null,
   "metadata": {
    "collapsed": true
   },
   "outputs": [],
   "source": []
  }
 ],
 "metadata": {
  "kernelspec": {
   "display_name": "Python 3",
   "language": "python",
   "name": "python3"
  },
  "language_info": {
   "codemirror_mode": {
    "name": "ipython",
    "version": 3
   },
   "file_extension": ".py",
   "mimetype": "text/x-python",
   "name": "python",
   "nbconvert_exporter": "python",
   "pygments_lexer": "ipython3",
   "version": "3.5.2"
  }
 },
 "nbformat": 4,
 "nbformat_minor": 0
}
